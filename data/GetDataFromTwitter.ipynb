{
 "cells": [
  {
   "cell_type": "markdown",
   "metadata": {},
   "source": [
    "# Getting Data From Twitter"
   ]
  },
  {
   "cell_type": "markdown",
   "metadata": {},
   "source": [
    "## 1. Get Accounts From accounts.txt"
   ]
  },
  {
   "cell_type": "code",
   "execution_count": 1,
   "metadata": {
    "collapsed": false
   },
   "outputs": [],
   "source": [
    "cate = \"\"\n",
    "all_acc = {}\n",
    "acc_list = []\n",
    "f = open(\"accounts.txt\",'r')\n",
    "for line in f:\n",
    "    if line[0] == '-':\n",
    "        continue\n",
    "    elif line[0] == '=':\n",
    "        if len(acc_list) > 0:\n",
    "            all_acc[cate] = acc_list\n",
    "        cate = line[1:]\n",
    "        cate = cate.rstrip()\n",
    "        cate = cate.lstrip()\n",
    "        acc_list = []\n",
    "    else:\n",
    "        sname = line\n",
    "        sname = sname.rstrip()\n",
    "        sname = sname.lstrip()\n",
    "        acc_list.append(sname)"
   ]
  },
  {
   "cell_type": "code",
   "execution_count": 2,
   "metadata": {
    "collapsed": false
   },
   "outputs": [
    {
     "name": "stdout",
     "output_type": "stream",
     "text": [
      "There are ... \n",
      "SingleMale 15 accounts\n",
      "MarriedMale 19 accounts\n",
      "SingleFemale 14 accounts\n",
      "MarriedFemale 18 accounts\n"
     ]
    }
   ],
   "source": [
    "print('There are ... ')\n",
    "for k in all_acc.keys():\n",
    "    print(k + ' ' + str(len(all_acc[k])) + ' accounts')"
   ]
  },
  {
   "cell_type": "markdown",
   "metadata": {},
   "source": [
    "## 2. Prepare Twitter API for tweet requests"
   ]
  },
  {
   "cell_type": "code",
   "execution_count": 3,
   "metadata": {
    "collapsed": false
   },
   "outputs": [],
   "source": [
    "import configparser\n",
    "from TwitterAPI import TwitterAPI"
   ]
  },
  {
   "cell_type": "code",
   "execution_count": 4,
   "metadata": {
    "collapsed": true
   },
   "outputs": [],
   "source": [
    "def get_twitter(config_file):\n",
    "    config = configparser.ConfigParser()\n",
    "    config.read(config_file)\n",
    "    twitter = TwitterAPI(\n",
    "                   config.get('twitter', 'consumer_key'),\n",
    "                   config.get('twitter', 'consumer_secret'),\n",
    "                   config.get('twitter', 'access_token'),\n",
    "                   config.get('twitter', 'access_token_secret'))\n",
    "    return twitter"
   ]
  },
  {
   "cell_type": "code",
   "execution_count": 5,
   "metadata": {
    "collapsed": true
   },
   "outputs": [],
   "source": [
    "def robust_request(twitter, resource, params, max_tries=5):\n",
    "    \"\"\" If a Twitter request fails, sleep for 15 minutes.\n",
    "    Do this at most max_tries times before quitting.\n",
    "    Args:\n",
    "      twitter .... A TwitterAPI object.\n",
    "      resource ... A resource string to request.\n",
    "      params ..... A parameter dictionary for the request.\n",
    "      max_tries .. The maximum number of tries to attempt.\n",
    "    Returns:\n",
    "      A TwitterResponse object, or None if failed.\n",
    "    \"\"\"\n",
    "    for i in range(max_tries):\n",
    "        request = twitter.request(resource, params)\n",
    "        if request.status_code == 200:\n",
    "            return request\n",
    "        else:\n",
    "            print >> sys.stderr, 'Got error:', request.text, '\\nsleeping for 15 minutes.'\n",
    "            sys.stderr.flush()\n",
    "            time.sleep(61 * 15)"
   ]
  },
  {
   "cell_type": "code",
   "execution_count": 6,
   "metadata": {
    "collapsed": false
   },
   "outputs": [],
   "source": [
    "def get_tweets(twitter, screen_name):\n",
    "    params = {}\n",
    "    params['screen_name'] = screen_name\n",
    "    params['count'] = 50\n",
    "    params['trim_user'] = True\n",
    "    params['exclude_replies'] = True\n",
    "    params['include_rts'] = False\n",
    "    return robust_request(twitter,'statuses/user_timeline', params)"
   ]
  },
  {
   "cell_type": "code",
   "execution_count": 7,
   "metadata": {
    "collapsed": false
   },
   "outputs": [],
   "source": [
    "twitter = get_twitter('twitter.cfg')"
   ]
  },
  {
   "cell_type": "markdown",
   "metadata": {},
   "source": [
    "## 3. Request and save all tweets to files"
   ]
  },
  {
   "cell_type": "code",
   "execution_count": 8,
   "metadata": {
    "collapsed": false
   },
   "outputs": [
    {
     "name": "stdout",
     "output_type": "stream",
     "text": [
      "323 tweets have been saved to SingleMale.txt\n",
      "483 tweets have been saved to MarriedMale.txt\n",
      "420 tweets have been saved to SingleFemale.txt\n",
      "502 tweets have been saved to MarriedFemale.txt\n"
     ]
    }
   ],
   "source": [
    "nTweets = 0\n",
    "cate_f = open('categories.txt','w')\n",
    "got = False\n",
    "for k in all_acc.keys():\n",
    "    cate_f.write(k+'\\n')\n",
    "    f = open(k+'.txt','w')\n",
    "    acc_list = all_acc[k]\n",
    "    nTweets = 0\n",
    "    for sname in acc_list:\n",
    "        req = get_tweets(twitter, sname)\n",
    "        for r in req:\n",
    "            tweet = r['text']\n",
    "            tweet = tweet.replace('\\n',' ')\n",
    "            f.write(tweet+'\\n')\n",
    "            nTweets+=1\n",
    "    print(str(nTweets)+' tweets have been saved to '+k+'.txt')\n",
    "\n",
    "cate_f.close()"
   ]
  }
 ],
 "metadata": {
  "kernelspec": {
   "display_name": "Python 3",
   "language": "python",
   "name": "python3"
  },
  "language_info": {
   "codemirror_mode": {
    "name": "ipython",
    "version": 3
   },
   "file_extension": ".py",
   "mimetype": "text/x-python",
   "name": "python",
   "nbconvert_exporter": "python",
   "pygments_lexer": "ipython3",
   "version": "3.5.2"
  }
 },
 "nbformat": 4,
 "nbformat_minor": 1
}
