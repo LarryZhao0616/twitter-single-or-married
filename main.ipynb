{
 "cells": [
  {
   "cell_type": "markdown",
   "metadata": {},
   "source": [
    "# Single or Married?"
   ]
  },
  {
   "cell_type": "markdown",
   "metadata": {},
   "source": [
    "**Members:** \n",
    "1. Jiranun Jiratrakanvong A20337992\n",
    "2. Sihan Zhao A20351458\n",
    "\n"
   ]
  },
  {
   "cell_type": "markdown",
   "metadata": {},
   "source": [
    "**Project Description** : This project will provide the prediction of relationship status by using people tweets. The training data are tweets from people who are single men/women and married men/women. The features of learning are words in tweets."
   ]
  },
  {
   "cell_type": "markdown",
   "metadata": {},
   "source": [
    "### 1. Import necessary modules"
   ]
  },
  {
   "cell_type": "code",
   "execution_count": 1,
   "metadata": {
    "collapsed": false
   },
   "outputs": [],
   "source": [
    "%matplotlib inline\n",
    "import matplotlib.pyplot as plt\n",
    "from sklearn.feature_extraction.text import CountVectorizer\n",
    "from sklearn.linear_model import LogisticRegression\n",
    "from random import shuffle\n",
    "import numpy as np\n",
    "import re\n",
    "from matplotlib import pylab\n",
    "pylab.rcParams['figure.figsize'] = (10.0, 8.0)"
   ]
  },
  {
   "cell_type": "markdown",
   "metadata": {},
   "source": [
    "### 2. Get all tweets from data folders"
   ]
  },
  {
   "cell_type": "markdown",
   "metadata": {},
   "source": [
    "#### Specify number of tweets for each category ( MAX = 300 )\n",
    "(There are 4 categories - single females, single males, married females, and married males. Therefore, if num_tweets_each_cate = 250, there are 500 tweets from single people and 500 tweets from married people)"
   ]
  },
  {
   "cell_type": "code",
   "execution_count": 2,
   "metadata": {
    "collapsed": true
   },
   "outputs": [],
   "source": [
    "num_tweets_each_cate = 300"
   ]
  },
  {
   "cell_type": "code",
   "execution_count": 3,
   "metadata": {
    "collapsed": false
   },
   "outputs": [
    {
     "name": "stdout",
     "output_type": "stream",
     "text": [
      "There are 300 from SingleMale\n",
      "There are 300 from MarriedMale\n",
      "There are 300 from SingleFemale\n",
      "There are 300 from MarriedFemale\n"
     ]
    }
   ],
   "source": [
    "f_cate = open('data/categories.txt','r')\n",
    "all_tweets = {}\n",
    "\n",
    "for cate in f_cate:\n",
    "    cate_name = cate.rstrip()\n",
    "    file_name = cate_name+'.txt'\n",
    "    f = open('data/'+file_name, 'r')\n",
    "    tweets = []\n",
    "    for tweet in f:\n",
    "        str_tweet = tweet.rstrip()\n",
    "        str_tweet = str_tweet.lstrip()\n",
    "        if str_tweet != '':\n",
    "            tweets.append(str_tweet) \n",
    "    shuffle(tweets) ## Shuffle tweets in order to select tweets randomly from every person\n",
    "    all_tweets[cate_name] = tweets[0:num_tweets_each_cate]\n",
    "    print('There are '+str(num_tweets_each_cate)+' from '+ cate_name)"
   ]
  },
  {
   "cell_type": "markdown",
   "metadata": {},
   "source": [
    "#### Combine male and female, so the categories are Single or Merried only"
   ]
  },
  {
   "cell_type": "code",
   "execution_count": 4,
   "metadata": {
    "collapsed": false
   },
   "outputs": [
    {
     "name": "stdout",
     "output_type": "stream",
     "text": [
      "There are 600 tweets from single people.\n",
      "There are 600 tweets from married people.\n"
     ]
    }
   ],
   "source": [
    "single_tweets = all_tweets['SingleFemale'][:]\n",
    "single_tweets.extend(all_tweets['SingleMale'])\n",
    "print('There are '+str(len(single_tweets))+' tweets from single people.')\n",
    "\n",
    "married_tweets = all_tweets['MarriedFemale'][:]\n",
    "married_tweets.extend(all_tweets['MarriedMale'])\n",
    "print('There are '+str(len(married_tweets))+' tweets from married people.')"
   ]
  },
  {
   "cell_type": "markdown",
   "metadata": {},
   "source": [
    "#### Combine all tweets and create labels + shuffle them all"
   ]
  },
  {
   "cell_type": "code",
   "execution_count": 5,
   "metadata": {
    "collapsed": false
   },
   "outputs": [
    {
     "name": "stdout",
     "output_type": "stream",
     "text": [
      "Here's some example of the data...\n",
      "(0:single, 1:married)\n",
      "Labels\tTweets\n",
      "1\tI'm blown away by the goodness of the Lord! Over 1000 people came forward to receive Christ!!!!  They also gave... https://t.co/4H1ruQK53O\n",
      "0\tI still need to finish Dead of Summer on Hulu ugh it's so good\n",
      "0\tNight is more beautiful with moonlight...met malam kawan...\n",
      "0\tLittle do he know thsis the first break in 4 months\n",
      "1\tCrazy uncle Joe Biden: \"I remember dating a guy\" what more will we learn about him. https://t.co/UPZAsDBBvg\n",
      "0\tAint finna be running round with no hoes and thinking shit sweet 👌\n",
      "0\tI just need a day off from reality, just a day without people, problems, and all the bullshit that runs through my mind.\n",
      "1\tJust finished helping place flags for 200,000 veterans, beautiful site. @ Riverside National Cemetery https://t.co/KnVulQNz4y\n",
      "0\tPast week, I touched Churchill's chair, went quad biking, tea at Claridges, broke out of an escape room, and went trampolining. #yolo #wwjfd\n",
      "0\tOUT STANDING VOCALS..... https://t.co/5vEQziE6pg\n"
     ]
    }
   ],
   "source": [
    "all_tweets = np.append(single_tweets[:], married_tweets[:])\n",
    "labels = np.append(np.zeros(len(single_tweets), dtype=np.int), (np.ones(len(married_tweets), dtype=np.int)))  # label single tweets as 0, and label married tweets as 1\n",
    "indexes = list(range(0, len(all_tweets)))\n",
    "shuffle(indexes)\n",
    "all_tweets = all_tweets[indexes]\n",
    "labels = labels[indexes]\n",
    "print(\"Here's some example of the data...\")\n",
    "print(\"(0:single, 1:married)\")\n",
    "print(\"Labels\\tTweets\")\n",
    "for i in range(0,10):\n",
    "    print(str(labels[i])+'\\t'+all_tweets[i])"
   ]
  },
  {
   "cell_type": "markdown",
   "metadata": {
    "collapsed": true
   },
   "source": [
    "### 3. Making Features from Data"
   ]
  },
  {
   "cell_type": "markdown",
   "metadata": {},
   "source": [
    "Create tokenize for making texts to tokens (URLs, mentions, RT, special charactors removed, and make them lowercase)"
   ]
  },
  {
   "cell_type": "code",
   "execution_count": 6,
   "metadata": {
    "collapsed": true
   },
   "outputs": [],
   "source": [
    "def tokenize(text):\n",
    "    text = re.sub('http\\S+', ' ', text)\n",
    "    text = re.sub('@\\S+', ' ', text)\n",
    "    text = text.lower()\n",
    "    text = text.replace('rt','')\n",
    "    return re.sub('\\W+', ' ', text).split()"
   ]
  },
  {
   "cell_type": "markdown",
   "metadata": {},
   "source": [
    "Create Features by using CountVectorizer, then fit data by using LogisticRegression"
   ]
  },
  {
   "cell_type": "code",
   "execution_count": 7,
   "metadata": {
    "collapsed": false
   },
   "outputs": [],
   "source": [
    "vec = CountVectorizer(tokenizer=tokenize, min_df=5, max_df=1.0, ngram_range=(1,1))\n",
    "X = vec.fit_transform(all_tweets)\n",
    "feature_names = vec.get_feature_names()"
   ]
  },
  {
   "cell_type": "markdown",
   "metadata": {},
   "source": [
    "### 4. Data Visualizations and Statistics"
   ]
  },
  {
   "cell_type": "code",
   "execution_count": 8,
   "metadata": {
    "collapsed": false
   },
   "outputs": [
    {
     "name": "stdout",
     "output_type": "stream",
     "text": [
      "There are 1200 of instances(tweets) and 438 features\n"
     ]
    }
   ],
   "source": [
    "print('There are %d of instances(tweets) and %d features'%(X.shape[0], X.shape[1]))"
   ]
  },
  {
   "cell_type": "markdown",
   "metadata": {},
   "source": [
    "#### Targets"
   ]
  },
  {
   "cell_type": "code",
   "execution_count": 9,
   "metadata": {
    "collapsed": false
   },
   "outputs": [
    {
     "data": {
      "text/plain": [
       "[<matplotlib.text.Text at 0x10855b470>, <matplotlib.text.Text at 0x1083e7f98>]"
      ]
     },
     "execution_count": 9,
     "metadata": {},
     "output_type": "execute_result"
    },
    {
     "data": {
      "image/png": "[encoded data removed]",
      "text/plain": [
       "<matplotlib.figure.Figure at 0x1083407f0>"
      ]
     },
     "metadata": {},
     "output_type": "display_data"
    }
   ],
   "source": [
    "ax = plt.gca()\n",
    "plt.bar(0, list(labels).count(0), color = 'b', label = 'Single')\n",
    "plt.bar(1, list(labels).count(1), color = 'r', label = 'Married')\n",
    "plt.xticks([0,1])\n",
    "plt.ylabel(\"Number of Tweets\")\n",
    "plt.xlabel(\"Labels\")\n",
    "plt.legend()\n",
    "plt.ylim(0, max(list(labels).count(0),list(labels).count(1))+100)\n",
    "ax = plt.gca()\n",
    "ax.set_xticks([0.4,1.4])\n",
    "ax.set_xticklabels(['0','1'])"
   ]
  },
  {
   "cell_type": "markdown",
   "metadata": {},
   "source": [
    "#### Features"
   ]
  },
  {
   "cell_type": "code",
   "execution_count": 10,
   "metadata": {
    "collapsed": false
   },
   "outputs": [
    {
     "data": {
      "text/plain": [
       "<matplotlib.text.Text at 0x108709d30>"
      ]
     },
     "execution_count": 10,
     "metadata": {},
     "output_type": "execute_result"
    },
    {
     "data": {
      "image/png": "[encoded data removed]",
      "text/plain": [
       "<matplotlib.figure.Figure at 0x108340fd0>"
      ]
     },
     "metadata": {},
     "output_type": "display_data"
    }
   ],
   "source": [
    "counts = X.sum(axis=0).A1\n",
    "word_counts = [(feature_names[i],counts[i]) for i in range(0,len(counts))]\n",
    "sorted_word_counts = sorted(word_counts, key = lambda wc : wc[1] , reverse=True)\n",
    "sorted_words = [word for (word,count) in sorted_word_counts][:100]\n",
    "sorted_counts = [count for (word,count) in sorted_word_counts][:100]\n",
    "# print(sorted_word_counts)\n",
    "ax = plt.gca()\n",
    "ax.bar(range(0,len(sorted_words)), sorted_counts)\n",
    "plt.ylabel('Frequencies')\n",
    "plt.xlabel('Top 100 Words')"
   ]
  },
  {
   "cell_type": "code",
   "execution_count": 11,
   "metadata": {
    "collapsed": false
   },
   "outputs": [
    {
     "name": "stdout",
     "output_type": "stream",
     "text": [
      "Top 100 words with it frequency\n",
      "Word\tCount\n",
      "the\t407\n",
      "to\t358\n",
      "i\t355\n",
      "a\t293\n",
      "you\t269\n",
      "and\t218\n",
      "of\t200\n",
      "is\t194\n",
      "it\t177\n",
      "for\t153\n",
      "on\t150\n",
      "in\t149\n",
      "s\t148\n",
      "my\t147\n",
      "t\t112\n",
      "this\t107\n",
      "me\t104\n",
      "with\t94\n",
      "that\t93\n",
      "be\t91\n",
      "your\t83\n",
      "at\t80\n",
      "so\t78\n",
      "are\t76\n",
      "just\t74\n",
      "m\t72\n",
      "not\t69\n",
      "can\t67\n",
      "what\t66\n",
      "love\t65\n",
      "but\t64\n",
      "when\t62\n",
      "all\t61\n",
      "like\t60\n",
      "have\t57\n",
      "amp\t55\n",
      "people\t53\n",
      "via\t52\n",
      "we\t52\n",
      "out\t51\n",
      "time\t51\n",
      "up\t51\n",
      "will\t50\n",
      "who\t48\n",
      "today\t47\n",
      "if\t46\n",
      "don\t45\n",
      "life\t45\n",
      "was\t45\n",
      "do\t42\n",
      "get\t41\n",
      "they\t41\n",
      "by\t38\n",
      "now\t37\n",
      "discount\t36\n",
      "good\t35\n",
      "how\t35\n",
      "from\t34\n",
      "need\t34\n",
      "day\t33\n",
      "our\t33\n",
      "god\t32\n",
      "never\t32\n",
      "or\t32\n",
      "about\t31\n",
      "as\t31\n",
      "always\t30\n",
      "new\t30\n",
      "one\t30\n",
      "go\t29\n",
      "know\t29\n",
      "right\t28\n",
      "want\t28\n",
      "he\t27\n",
      "2\t26\n",
      "99\t26\n",
      "has\t26\n",
      "no\t26\n",
      "3\t25\n",
      "because\t25\n",
      "his\t25\n",
      "more\t25\n",
      "off\t25\n",
      "only\t25\n",
      "win\t25\n",
      "back\t24\n",
      "make\t24\n",
      "re\t24\n",
      "ve\t24\n",
      "5\t23\n",
      "best\t23\n",
      "night\t23\n",
      "really\t23\n",
      "still\t23\n",
      "trump\t23\n",
      "great\t22\n",
      "there\t22\n",
      "next\t21\n",
      "us\t21\n",
      "much\t20\n"
     ]
    }
   ],
   "source": [
    "print(\"Top 100 words with it frequency\")\n",
    "print(\"Word\\tCount\")\n",
    "for i in range(0,100):\n",
    "    print(\"%s\\t%d\"%(sorted_words[i],sorted_counts[i]))"
   ]
  },
  {
   "cell_type": "code",
   "execution_count": 12,
   "metadata": {
    "collapsed": false
   },
   "outputs": [
    {
     "name": "stdout",
     "output_type": "stream",
     "text": [
      "stats\t 1.06\n",
      "photo\t 1.13\n",
      "liked\t 1.15\n",
      "makes\t 1.17\n",
      "husband\t 1.29\n",
      "free\t 1.30\n",
      "ad\t 1.43\n",
      "wonderful\t 1.51\n",
      "great\t 1.56\n",
      "discount\t 1.73\n",
      "kitten\t -2.02\n",
      "someone\t -1.48\n",
      "who\t -1.44\n",
      "best\t -1.42\n",
      "lit\t -1.23\n",
      "pretty\t -1.12\n",
      "like\t -1.11\n",
      "instagood\t -1.10\n",
      "alone\t -1.07\n",
      "finally\t -1.04\n"
     ]
    }
   ],
   "source": [
    "clf = LogisticRegression()\n",
    "clf.fit(X, labels)\n",
    "weights = clf.coef_[0]\n",
    "indices = np.argsort(weights)\n",
    "\n",
    "for i in indices[-10:]:\n",
    "    print(\"%s\\t %.2f\"%(feature_names[i],weights[i]))\n",
    "for i in indices[:10]:\n",
    "    print(\"%s\\t %.2f\"%(feature_names[i], weights[i]))"
   ]
  }
 ],
 "metadata": {
  "kernelspec": {
   "display_name": "Python 3",
   "language": "python",
   "name": "python3"
  },
  "language_info": {
   "codemirror_mode": {
    "name": "ipython",
    "version": 3
   },
   "file_extension": ".py",
   "mimetype": "text/x-python",
   "name": "python",
   "nbconvert_exporter": "python",
   "pygments_lexer": "ipython3",
   "version": "3.5.2"
  }
 },
 "nbformat": 4,
 "nbformat_minor": 1
}
